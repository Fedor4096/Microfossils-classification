{
 "cells": [
  {
   "cell_type": "code",
   "execution_count": 18,
   "id": "638e2c92",
   "metadata": {},
   "outputs": [],
   "source": [
    "from pyproj import Proj, transform\n",
    "from pyproj import Transformer\n",
    "from pyproj import CRS\n",
    "from pyparsing import Word, alphas, ZeroOrMore, Suppress, Optional\n",
    "import os"
   ]
  },
  {
   "cell_type": "code",
   "execution_count": 2,
   "id": "5eb16527",
   "metadata": {},
   "outputs": [],
   "source": [
    "crs_utm = CRS.from_user_input(28407)"
   ]
  },
  {
   "cell_type": "code",
   "execution_count": 3,
   "id": "316f1a23",
   "metadata": {},
   "outputs": [
    {
     "data": {
      "text/plain": [
       "<Derived Projected CRS: EPSG:28407>\n",
       "Name: Pulkovo 1942 / Gauss-Kruger zone 7\n",
       "Axis Info [cartesian]:\n",
       "- X[north]: Northing (metre)\n",
       "- Y[east]: Easting (metre)\n",
       "Area of Use:\n",
       "- name: Georgia - onshore west of 36°E; Russian Federation - onshore 36°E to 42°E; Ukraine - onshore east of 36°E.\n",
       "- bounds: (36.0, 41.43, 42.0, 69.23)\n",
       "Coordinate Operation:\n",
       "- name: 6-degree Gauss-Kruger zone 7\n",
       "- method: Transverse Mercator\n",
       "Datum: Pulkovo 1942\n",
       "- Ellipsoid: Krassowsky 1940\n",
       "- Prime Meridian: Greenwich"
      ]
     },
     "execution_count": 3,
     "metadata": {},
     "output_type": "execute_result"
    }
   ],
   "source": [
    "crs_utm"
   ]
  },
  {
   "cell_type": "code",
   "execution_count": 4,
   "id": "31a70725",
   "metadata": {},
   "outputs": [
    {
     "data": {
      "text/plain": [
       "<Geographic 2D CRS: EPSG:4284>\n",
       "Name: Pulkovo 1942\n",
       "Axis Info [ellipsoidal]:\n",
       "- Lat[north]: Geodetic latitude (degree)\n",
       "- Lon[east]: Geodetic longitude (degree)\n",
       "Area of Use:\n",
       "- name: Armenia; Azerbaijan; Belarus; Estonia - onshore; Georgia - onshore; Kazakhstan; Kyrgyzstan; Latvia - onshore; Lithuania - onshore; Moldova; Russian Federation - onshore; Tajikistan; Turkmenistan; Ukraine - onshore; Uzbekistan.\n",
       "- bounds: (19.57, 35.14, -168.97, 81.91)\n",
       "Datum: Pulkovo 1942\n",
       "- Ellipsoid: Krassowsky 1940\n",
       "- Prime Meridian: Greenwich"
      ]
     },
     "execution_count": 4,
     "metadata": {},
     "output_type": "execute_result"
    }
   ],
   "source": [
    "crs_utm = CRS.from_user_input(4284)\n",
    "crs_utm"
   ]
  },
  {
   "cell_type": "code",
   "execution_count": 5,
   "id": "d4d0e121",
   "metadata": {},
   "outputs": [],
   "source": [
    "#x_in, y_in = 40, 35 #latitude (широта), longitude(долгота)"
   ]
  },
  {
   "cell_type": "code",
   "execution_count": 102,
   "id": "891670fb",
   "metadata": {},
   "outputs": [
    {
     "name": "stdout",
     "output_type": "stream",
     "text": [
      "X=4433921.003568104, Y=7243793.583852794\n"
     ]
    }
   ],
   "source": [
    "x_in, y_in = 40, 36 #latitude (широта), longitude(долгота)\n",
    "transformer = Transformer.from_crs('epsg:4284', 'epsg:28407')\n",
    "X, Y = transformer.transform(x_in, y_in)\n",
    "print(f'X={X}, Y={Y}')"
   ]
  },
  {
   "cell_type": "markdown",
   "id": "3a8c82fb",
   "metadata": {},
   "source": [
    "# Пересчёт координат береговой линии"
   ]
  },
  {
   "cell_type": "code",
   "execution_count": 73,
   "id": "9276af1c",
   "metadata": {},
   "outputs": [],
   "source": [
    "f_1 = open('Shore_line.wpt', 'r+')\n",
    "f_2 = open('Shore_line_proj.txt', 'w+')\n",
    "f_2.write(\"lat, lon, X, Y\\n\")\n",
    "l = f_1.readlines()\n",
    "#print(l[4])\n",
    "for s in range(4, len(l)):\n",
    "    for i in range(len(l[s].split(\",\"))):\n",
    "        lat = l[s].replace(\" \", \"\").split(\",\")[2]\n",
    "        lon = l[s].replace(\" \", \"\").split(\",\")[3]\n",
    "        #print(l[4].replace(\" \", \"\").split(\",\")[i])\n",
    "    #print(f'lat={l[4].replace(\" \", \"\").split(\",\")[2]}, lon={l[4].replace(\" \", \"\").split(\",\")[3]}')\n",
    "    X, Y = transformer.transform(lat, lon)\n",
    "    #print(f'X={X}, Y={Y}')\n",
    "    #f_2.write(f\", X={X}, Y={Y}\\n\")\n",
    "    f_2.write(f\"{lat}, {lon}, {X}, {Y}\\n\")\n",
    "    #print(l[4].split(\", \"))\n",
    "f_1.close()\n",
    "f_2.close()"
   ]
  },
  {
   "cell_type": "markdown",
   "id": "f78536a1",
   "metadata": {},
   "source": [
    "# Точки для гравиметрических наблюдений"
   ]
  },
  {
   "cell_type": "code",
   "execution_count": 89,
   "id": "f937f0ba",
   "metadata": {},
   "outputs": [
    {
     "name": "stdout",
     "output_type": "stream",
     "text": [
      "['1', '1', '  40.546710', '  41.204681', '44835.0618482', '  0', ' 0', ' 3', '         0', '     65535', '', ' 0', ' 0', '    0', '   -777', ' 6', ' 0', '17', '0', '10.0', '2', '', '', '\\n']\n",
      "True\n"
     ]
    }
   ],
   "source": [
    "f = open('Gravity_points.wpt', 'r+')\n",
    "l = f.readlines()\n",
    "l_s = l[4].split(\",\")\n",
    "print(l_s)\n",
    "l_s_j = \",\".join(l_s)\n",
    "print(l_s_j)\n",
    "f.close()"
   ]
  },
  {
   "cell_type": "code",
   "execution_count": 93,
   "id": "29494692",
   "metadata": {},
   "outputs": [],
   "source": [
    "with open('Gravity_points.wpt', \"r\") as f:\n",
    "    lat = l[4].replace(\" \", \"\").split(\",\")[2]\n",
    "    lon = l[4].replace(\" \", \"\").split(\",\")[3]\n",
    "    lines = f.readlines()\n",
    "with open('Gravity_points.wpt', \"w\") as f:\n",
    "    for line in lines:\n",
    "        if line != lines[4]:\n",
    "            f.write(line)"
   ]
  },
  {
   "cell_type": "code",
   "execution_count": 105,
   "id": "2a3d3282",
   "metadata": {},
   "outputs": [
    {
     "name": "stdout",
     "output_type": "stream",
     "text": [
      "40.546710\n",
      "41.204681\n",
      "4492651.544423742\n",
      "7686766.549271134\n"
     ]
    }
   ],
   "source": [
    "with open('Gravity_points.wpt', \"r\") as f:\n",
    "    lat = l[4].replace(\" \", \"\").split(\",\")[2]\n",
    "    lon = l[4].replace(\" \", \"\").split(\",\")[3]\n",
    "    lines = f.readlines()\n",
    "with open('Gravity_points.wpt', \"w\") as f:\n",
    "    for line in lines:\n",
    "        if line != lines[4]:\n",
    "            f.write(line)\n",
    "f = open('Gravity_points.wpt', 'r+')\n",
    "print(lat)\n",
    "print(lon)\n",
    "transformer = Transformer.from_crs('epsg:4284', 'epsg:28407')\n",
    "X_c, Y_c = transformer.transform(lat, lon) #ещё старый трансформер\n",
    "print(X_c)\n",
    "print(Y_c)\n",
    "X_lc, Y_lc = X_c+2500, Y_c-2500\n",
    "transformer = Transformer.from_crs('epsg:28407', 'epsg:4284') #обратный трансформер\n",
    "#lat, lon = transformer.transform(X_lc, Y_lc)\n",
    "f.write(\"OziExplorer Waypoint File Version 1.1\\nWGS 84\\nReserved 2\\n\\n\")\n",
    "#f.write(f\"WP,D,1,{lat},{lon},10/01/2022,22:00:00,A,N,-9999\\n\")\n",
    "t=1\n",
    "for i in range(6):\n",
    "    for j in range(6):\n",
    "        #X_lc, Y_lc = X - 1000*j, Y + 1000*i # уточнить шаг по профилю\n",
    "        lat, lon = transformer.transform(X_lc-1000*j, Y_lc+1000*i)\n",
    "        #f.write(f\"WP,D,1,{lat},{lon},10/01/2022,22:00:00,A,N,-9999\\n\")\n",
    "        f.write(f\"{t},{t},  {lat},  {lon},44835.0618482,  0, 0, 3,         0,     65535,, 0, 0,    0,   -777, 6, 0,17,0,10.0,2,,,\\n\")\n",
    "        #f.write(f\"{t},{t},{lat},{lon},44835.0618482,0,0,3,0,65535,,0,0,0,-777,6,0,17,0,10.0,2,,,\\n\")\n",
    "        t = t+1\n",
    "        \n",
    "f.close()"
   ]
  },
  {
   "cell_type": "code",
   "execution_count": 103,
   "id": "5c42baf4",
   "metadata": {},
   "outputs": [
    {
     "name": "stdout",
     "output_type": "stream",
     "text": [
      "lat=40, lon=36\n"
     ]
    }
   ],
   "source": [
    "x_in, y_in = 4433921.003568104, 7243793.583852794 #latitude (широта), longitude(долгота)\n",
    "transformer = Transformer.from_crs('epsg:28407', 'epsg:4284')\n",
    "lat , lon = transformer.transform(x_in, y_in)\n",
    "print(f'lat={round(lat)}, lon={round(lon)}')"
   ]
  },
  {
   "cell_type": "code",
   "execution_count": null,
   "id": "66681096",
   "metadata": {},
   "outputs": [],
   "source": []
  },
  {
   "cell_type": "code",
   "execution_count": null,
   "id": "2683673c",
   "metadata": {},
   "outputs": [],
   "source": []
  }
 ],
 "metadata": {
  "kernelspec": {
   "display_name": "Python 3 (ipykernel)",
   "language": "python",
   "name": "python3"
  },
  "language_info": {
   "codemirror_mode": {
    "name": "ipython",
    "version": 3
   },
   "file_extension": ".py",
   "mimetype": "text/x-python",
   "name": "python",
   "nbconvert_exporter": "python",
   "pygments_lexer": "ipython3",
   "version": "3.9.12"
  }
 },
 "nbformat": 4,
 "nbformat_minor": 5
}
