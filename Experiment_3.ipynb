{
 "cells": [
  {
   "cell_type": "code",
   "execution_count": 1,
   "id": "aa4ce5ea",
   "metadata": {},
   "outputs": [],
   "source": [
    "from tensorflow.keras.preprocessing.image import ImageDataGenerator\n",
    "from tensorflow.keras.models import Sequential, Model\n",
    "from tensorflow.keras.layers import Dense, Activation, Flatten, Dropout, Concatenate\n",
    "from tensorflow.keras.applications.inception_v3 import InceptionV3\n",
    "from tensorflow.keras.applications.resnet50 import ResNet50\n",
    "#from keras.callbacks import ModelCheckpoint\n",
    "from tensorflow.keras.optimizers import SGD, Adam\n",
    "from keras.callbacks import ReduceLROnPlateau\n",
    "from keras.callbacks import EarlyStopping\n",
    "from keras.utils.vis_utils import plot_model\n",
    "\n",
    "import os\n",
    "import shutil\n",
    "import glob\n",
    "#from keras import backend as K\n",
    "#K.set_image_dim_ordering('th')\n",
    "\n",
    "import numpy as np\n",
    "import pandas as pd\n",
    "#import h5py\n",
    "\n",
    "import matplotlib.pyplot as plt"
   ]
  },
  {
   "cell_type": "markdown",
   "id": "28471ed0",
   "metadata": {},
   "source": [
    "## 1. Препроцессинг изображений"
   ]
  },
  {
   "cell_type": "markdown",
   "id": "4990bd0e",
   "metadata": {},
   "source": [
    "### 1.1 Очистка папок"
   ]
  },
  {
   "cell_type": "code",
   "execution_count": 2,
   "id": "0d8aeb4b",
   "metadata": {},
   "outputs": [],
   "source": [
    "def clear_folder(mydir):\n",
    "    filelist = [f for f in os.listdir(mydir)]\n",
    "    for f in filelist:\n",
    "        os.remove(os.path.join(mydir, f))"
   ]
  },
  {
   "cell_type": "code",
   "execution_count": 3,
   "id": "f46e1ebd",
   "metadata": {},
   "outputs": [],
   "source": [
    "for i in os.listdir('data/train_a'):\n",
    "    clear_folder(f'data/train_a/{i}')\n",
    "    \n",
    "for i in os.listdir('data/test_a'):\n",
    "    clear_folder(f'data/test_a/{i}')\n",
    "\n",
    "for i in os.listdir('data/train_c'):\n",
    "    clear_folder(f'data/train_c/{i}')\n",
    "    \n",
    "for i in os.listdir('data/test_c'):\n",
    "    clear_folder(f'data/test_c/{i}')"
   ]
  },
  {
   "cell_type": "markdown",
   "id": "d6d2ad5d",
   "metadata": {},
   "source": [
    "### 1.2 Выбор изображений и заполнение папок"
   ]
  },
  {
   "cell_type": "code",
   "execution_count": 4,
   "id": "79d5d3e0",
   "metadata": {},
   "outputs": [],
   "source": [
    "def fill_folder_by_class(name):\n",
    "    data_names_a = list(glob.glob(f'data/{name}/*Plate_?*_?*a.tif'))\n",
    "    data_names_c = list(glob.glob(f'data/{name}/*Plate_?*_?*c.tif'))\n",
    "    f_1 = open(f'data/{name}/different_angle.txt', 'rt')\n",
    "    f_2 = open(f'data/{name}/miss_view.txt', 'rt')\n",
    "    diff_angle = f_1.readlines()\n",
    "    miss_view = f_2.readlines()\n",
    "    for i, pic in enumerate(diff_angle):\n",
    "        diff_angle[i] = f'data/{name}\\\\{pic.rstrip()}.tif'#обрезаем символы на конце строки '\\n'\n",
    "    for i, pic in enumerate(miss_view):\n",
    "        miss_view[i] = f'data/{name}\\\\{pic.rstrip()}.tif'\n",
    "\n",
    "    for pic in diff_angle:\n",
    "        if pic in data_names_a:\n",
    "            data_names_a.remove(pic)\n",
    "            if pic[:-5]+'c.tif' in data_names_c:\n",
    "                data_names_c.remove(pic[:-5]+'c.tif')\n",
    "    for pic in diff_angle:\n",
    "        if pic in data_names_c:\n",
    "            data_names_c.remove(pic)\n",
    "\n",
    "    for pic in miss_view:\n",
    "        if (pic[-5:-4] == 'c')==True and (pic[:-5]+'a.tif' in diff_angle)==False and (pic[:-5]+'a.tif' in miss_view)==False:\n",
    "            data_names_a.remove(pic[:-5]+'a.tif')\n",
    "        if pic[-5:-4] == 'a' and (pic[:-5]+'c.tif' in diff_angle)==False and (pic[:-5]+'c.tif' in miss_view)==False:\n",
    "            data_names_c.remove(pic[:-5]+'c.tif')\n",
    "\n",
    "    f_1.close()\n",
    "    f_2.close()\n",
    "    \n",
    "    class_name = name.partition('_')[-1].partition('_')[0][0:3]\n",
    "    if not os.path.exists(f'data/train_a/class_{class_name}'):\n",
    "        os.makedirs(f'data/train_a/class_{class_name}')\n",
    "    if not os.path.exists(f'data/test_a/class_{class_name}'):\n",
    "        os.makedirs(f'data/test_a/class_{class_name}')\n",
    "    if not os.path.exists(f'data/train_c/class_{class_name}'):\n",
    "        os.makedirs(f'data/train_c/class_{class_name}')\n",
    "    if not os.path.exists(f'data/test_c/class_{class_name}'):\n",
    "        os.makedirs(f'data/test_c/class_{class_name}')\n",
    "\n",
    "    for i, n in enumerate(range(len(data_names_a))):\n",
    "        if i <= int(len(data_names_a)*0.75):\n",
    "            shutil.copy(data_names_a[n], f'data/train_a/class_{class_name}')\n",
    "        else:\n",
    "            shutil.copy(data_names_a[n], f'data/test_a/class_{class_name}')\n",
    "    for i, n in enumerate(range(len(data_names_c))):\n",
    "        if i <= int(len(data_names_c)*0.75):\n",
    "            shutil.copy(data_names_c[n], f'data/train_c/class_{class_name}')\n",
    "        else:\n",
    "            shutil.copy(data_names_c[n], f'data/test_c/class_{class_name}')"
   ]
  },
  {
   "cell_type": "code",
   "execution_count": 5,
   "id": "1f3123c4",
   "metadata": {},
   "outputs": [],
   "source": [
    "fill_folder_by_class('Aldanella_attleborensis')\n",
    "fill_folder_by_class('Aldanella_sibirica_sp_nov')"
   ]
  },
  {
   "cell_type": "code",
   "execution_count": 6,
   "id": "32cb9c8c",
   "metadata": {},
   "outputs": [
    {
     "name": "stdout",
     "output_type": "stream",
     "text": [
      "Found 59 images belonging to 2 classes.\n",
      "Found 59 images belonging to 2 classes.\n",
      "Found 18 images belonging to 2 classes.\n",
      "Found 18 images belonging to 2 classes.\n"
     ]
    },
    {
     "data": {
      "text/plain": [
       "\"\\npred_generator=test_datagen.flow_from_directory('data/img_val/',\\n                                                     target_size=(150,150),\\n                                                     batch_size=100,\\n                                                     class_mode='binary')\\n\""
      ]
     },
     "execution_count": 6,
     "metadata": {},
     "output_type": "execute_result"
    }
   ],
   "source": [
    "train_datagen = ImageDataGenerator(rescale=1./255, rotation_range=40)\n",
    "\n",
    "test_datagen = ImageDataGenerator(rescale=1./255)\n",
    "\n",
    "train_generator_a = train_datagen.flow_from_directory('data/train_a/',\n",
    "                                        target_size=(150, 150),\n",
    "                                        batch_size=100,\n",
    "                                        color_mode='rgb',\n",
    "                                        class_mode='binary',\n",
    "                                        shuffle=True)\n",
    "train_generator_c = train_datagen.flow_from_directory('data/train_c/',\n",
    "                                        target_size=(150, 150),\n",
    "                                        batch_size=100,\n",
    "                                        color_mode='rgb',\n",
    "                                        class_mode='binary',\n",
    "                                        shuffle=True)\n",
    "\n",
    "validation_generator_a = test_datagen.flow_from_directory('data/test_a/',\n",
    "                                              target_size=(150, 150),\n",
    "                                              batch_size=100,\n",
    "                                              color_mode='rgb',\n",
    "                                              class_mode='binary',\n",
    "                                              shuffle=True)\n",
    "validation_generator_c = test_datagen.flow_from_directory('data/test_c/',\n",
    "                                              target_size=(150, 150),\n",
    "                                              batch_size=100,\n",
    "                                              color_mode='rgb',\n",
    "                                              class_mode='binary',\n",
    "                                              shuffle=True)\n",
    "\n",
    "'''\n",
    "pred_generator=test_datagen.flow_from_directory('data/img_val/',\n",
    "                                                     target_size=(150,150),\n",
    "                                                     batch_size=100,\n",
    "                                                     class_mode='binary')\n",
    "'''"
   ]
  },
  {
   "cell_type": "markdown",
   "id": "d6d04e96",
   "metadata": {},
   "source": [
    "## 2. Создание модели"
   ]
  },
  {
   "cell_type": "code",
   "execution_count": 7,
   "id": "2c5d54b2",
   "metadata": {},
   "outputs": [],
   "source": [
    "cnn_model_a = InceptionV3(include_top=False, weights='imagenet', pooling='avg', input_shape=((150, 150, 3)))"
   ]
  },
  {
   "cell_type": "code",
   "execution_count": 8,
   "id": "2b4a21e1",
   "metadata": {},
   "outputs": [],
   "source": [
    "cnn_model_c = ResNet50(include_top=False, weights='imagenet', pooling='avg', input_shape=((150, 150, 3)))"
   ]
  },
  {
   "cell_type": "code",
   "execution_count": 9,
   "id": "a561ac11",
   "metadata": {},
   "outputs": [],
   "source": [
    "X_train_a, y_train_a = train_generator_a.next()\n",
    "X_train_c, y_train_c = train_generator_c.next()\n",
    "\n",
    "X_validation_a, y_validation_a = validation_generator_a.next()\n",
    "X_validation_c, y_validation_c = validation_generator_c.next()"
   ]
  },
  {
   "cell_type": "code",
   "execution_count": 68,
   "id": "13e39fed",
   "metadata": {},
   "outputs": [],
   "source": [
    "combinedInput = Concatenate()([cnn_model_a.output, cnn_model_c.output])\n",
    "x = Dense(128, activation='relu')(combinedInput)\n",
    "x = Dropout(0.5, name='dropout_c_one')(x)\n",
    "x = Dense(128, activation='relu')(x)\n",
    "x = Dropout(0.5, name='dropout_c_two')(x)\n",
    "x = Dense(128, activation='relu')(x)\n",
    "x = Dropout(0.5)(x)\n",
    "top = Dense(1, activation='sigmoid')(x)\n",
    "model = Model(inputs=[cnn_model_a.input, cnn_model_c.input], outputs=top)"
   ]
  },
  {
   "cell_type": "code",
   "execution_count": 69,
   "id": "ce215c55",
   "metadata": {},
   "outputs": [],
   "source": [
    "#plot_model(model, to_file='model_exp3_plot.png', show_shapes=True, show_layer_names=True)"
   ]
  },
  {
   "cell_type": "code",
   "execution_count": 70,
   "id": "0d394823",
   "metadata": {},
   "outputs": [],
   "source": [
    "model.compile(loss='binary_crossentropy',\n",
    "              optimizer=SGD(learning_rate=1e-4, momentum=0.9),\n",
    "                #optimizer='adam',\n",
    "              #optimizer=Adam(learning_rate=1e-4, decay=1e-4 / 200),\n",
    "              metrics=['accuracy'])"
   ]
  },
  {
   "cell_type": "code",
   "execution_count": 71,
   "id": "f02b44fd",
   "metadata": {},
   "outputs": [],
   "source": [
    "early_stopping = EarlyStopping(monitor='val_loss', patience=10)"
   ]
  },
  {
   "cell_type": "code",
   "execution_count": 74,
   "id": "2e07ac29",
   "metadata": {},
   "outputs": [],
   "source": [
    "def num_files(path):\n",
    "    num_files = len([f for f in os.listdir(path)])\n",
    "    return num_files"
   ]
  },
  {
   "cell_type": "code",
   "execution_count": 75,
   "id": "ded5d057",
   "metadata": {},
   "outputs": [],
   "source": [
    "train_labels_a = []\n",
    "test_labels_a = []\n",
    "filelist = [f for f in os.listdir('data/train_a')]\n",
    "for i, f in enumerate(filelist):\n",
    "    train_labels_a.extend([i]*num_files(f'data/train_a/{f}'))\n",
    "\n",
    "filelist = [f for f in os.listdir('data/test_a')]\n",
    "for i, f in enumerate(filelist):\n",
    "    test_labels_a.extend([i]*num_files(f'data/test_a/{f}'))\n",
    "\n",
    "train_labels_a = np.array(train_labels_a)\n",
    "test_labels_a = np.array(test_labels_a)"
   ]
  },
  {
   "cell_type": "code",
   "execution_count": 76,
   "id": "6d4be2a2",
   "metadata": {
    "scrolled": true
   },
   "outputs": [
    {
     "name": "stdout",
     "output_type": "stream",
     "text": [
      "Epoch 1/200\n",
      "6/6 [==============================] - 10s 422ms/step - loss: 1.1082 - accuracy: 0.4407 - val_loss: 0.9373 - val_accuracy: 0.3333\n",
      "Epoch 2/200\n",
      "6/6 [==============================] - 1s 121ms/step - loss: 0.8704 - accuracy: 0.4576 - val_loss: 0.8924 - val_accuracy: 0.3333\n",
      "Epoch 3/200\n",
      "6/6 [==============================] - 1s 121ms/step - loss: 0.9860 - accuracy: 0.3729 - val_loss: 0.8231 - val_accuracy: 0.3889\n",
      "Epoch 4/200\n",
      "6/6 [==============================] - 1s 123ms/step - loss: 0.9650 - accuracy: 0.4237 - val_loss: 0.7432 - val_accuracy: 0.3333\n",
      "Epoch 5/200\n",
      "6/6 [==============================] - 1s 135ms/step - loss: 0.9102 - accuracy: 0.4407 - val_loss: 0.6827 - val_accuracy: 0.3889\n",
      "Epoch 6/200\n",
      "6/6 [==============================] - 1s 121ms/step - loss: 0.6858 - accuracy: 0.6441 - val_loss: 0.6557 - val_accuracy: 0.7222\n",
      "Epoch 7/200\n",
      "6/6 [==============================] - 1s 121ms/step - loss: 0.6482 - accuracy: 0.6780 - val_loss: 0.6219 - val_accuracy: 0.7222\n",
      "Epoch 8/200\n",
      "6/6 [==============================] - 1s 122ms/step - loss: 0.7241 - accuracy: 0.6102 - val_loss: 0.6010 - val_accuracy: 0.6667\n",
      "Epoch 9/200\n",
      "6/6 [==============================] - 1s 126ms/step - loss: 0.5265 - accuracy: 0.7288 - val_loss: 0.5860 - val_accuracy: 0.7222\n",
      "Epoch 10/200\n",
      "6/6 [==============================] - 1s 121ms/step - loss: 0.5686 - accuracy: 0.7288 - val_loss: 0.5841 - val_accuracy: 0.7222\n",
      "Epoch 11/200\n",
      "6/6 [==============================] - 1s 133ms/step - loss: 0.5688 - accuracy: 0.7288 - val_loss: 0.5791 - val_accuracy: 0.7222\n",
      "Epoch 12/200\n",
      "6/6 [==============================] - 1s 133ms/step - loss: 0.5386 - accuracy: 0.6441 - val_loss: 0.5733 - val_accuracy: 0.7222\n",
      "Epoch 13/200\n",
      "6/6 [==============================] - 1s 133ms/step - loss: 0.5421 - accuracy: 0.7288 - val_loss: 0.5696 - val_accuracy: 0.7222\n",
      "Epoch 14/200\n",
      "6/6 [==============================] - 1s 127ms/step - loss: 0.5428 - accuracy: 0.6271 - val_loss: 0.5636 - val_accuracy: 0.7222\n",
      "Epoch 15/200\n",
      "6/6 [==============================] - 1s 126ms/step - loss: 0.4995 - accuracy: 0.7119 - val_loss: 0.5583 - val_accuracy: 0.7222\n",
      "Epoch 16/200\n",
      "6/6 [==============================] - 1s 130ms/step - loss: 0.5306 - accuracy: 0.6780 - val_loss: 0.5526 - val_accuracy: 0.7222\n",
      "Epoch 17/200\n",
      "6/6 [==============================] - 1s 130ms/step - loss: 0.4988 - accuracy: 0.7119 - val_loss: 0.5477 - val_accuracy: 0.7222\n",
      "Epoch 18/200\n",
      "6/6 [==============================] - 1s 130ms/step - loss: 0.5188 - accuracy: 0.6271 - val_loss: 0.5539 - val_accuracy: 0.7222\n",
      "Epoch 19/200\n",
      "6/6 [==============================] - 1s 129ms/step - loss: 0.4723 - accuracy: 0.6949 - val_loss: 0.5720 - val_accuracy: 0.7222\n",
      "Epoch 20/200\n",
      "6/6 [==============================] - 1s 127ms/step - loss: 0.4615 - accuracy: 0.7627 - val_loss: 0.5769 - val_accuracy: 0.7222\n",
      "Epoch 21/200\n",
      "6/6 [==============================] - 1s 134ms/step - loss: 0.4556 - accuracy: 0.7119 - val_loss: 0.5773 - val_accuracy: 0.7222\n",
      "Epoch 22/200\n",
      "6/6 [==============================] - 1s 122ms/step - loss: 0.3907 - accuracy: 0.7797 - val_loss: 0.5757 - val_accuracy: 0.7222\n",
      "Epoch 23/200\n",
      "6/6 [==============================] - 1s 129ms/step - loss: 0.4574 - accuracy: 0.7458 - val_loss: 0.5794 - val_accuracy: 0.7222\n",
      "Epoch 24/200\n",
      "6/6 [==============================] - 1s 128ms/step - loss: 0.4467 - accuracy: 0.7627 - val_loss: 0.5827 - val_accuracy: 0.7222\n",
      "Epoch 25/200\n",
      "6/6 [==============================] - 1s 128ms/step - loss: 0.4454 - accuracy: 0.7458 - val_loss: 0.5874 - val_accuracy: 0.7222\n",
      "Epoch 26/200\n",
      "6/6 [==============================] - 1s 126ms/step - loss: 0.3766 - accuracy: 0.7797 - val_loss: 0.5958 - val_accuracy: 0.7222\n",
      "Epoch 27/200\n",
      "6/6 [==============================] - 1s 127ms/step - loss: 0.4155 - accuracy: 0.7797 - val_loss: 0.6085 - val_accuracy: 0.7222\n"
     ]
    },
    {
     "data": {
      "text/plain": [
       "<keras.callbacks.History at 0x11e3c759580>"
      ]
     },
     "execution_count": 76,
     "metadata": {},
     "output_type": "execute_result"
    }
   ],
   "source": [
    "model.fit([X_train_a, X_train_c], train_labels_a,\n",
    "            validation_data=([X_validation_a, X_validation_c], y_validation_a),\n",
    "            epochs=200, batch_size=10,\n",
    "            callbacks=[early_stopping])"
   ]
  },
  {
   "cell_type": "code",
   "execution_count": 77,
   "id": "f8454cd4",
   "metadata": {},
   "outputs": [
    {
     "name": "stdout",
     "output_type": "stream",
     "text": [
      "1/1 [==============================] - 0s 215ms/step - loss: 0.6086 - accuracy: 0.7222\n"
     ]
    },
    {
     "data": {
      "text/plain": [
       "{'loss': 0.6086128950119019, 'accuracy': 0.7222222089767456}"
      ]
     },
     "execution_count": 77,
     "metadata": {},
     "output_type": "execute_result"
    }
   ],
   "source": [
    "result = model.evaluate([X_validation_a, X_validation_c], y_validation_a)\n",
    "dict(zip(model.metrics_names, result))"
   ]
  },
  {
   "cell_type": "code",
   "execution_count": null,
   "id": "5f583287",
   "metadata": {},
   "outputs": [],
   "source": []
  }
 ],
 "metadata": {
  "kernelspec": {
   "display_name": "Python 3 (ipykernel)",
   "language": "python",
   "name": "python3"
  },
  "language_info": {
   "codemirror_mode": {
    "name": "ipython",
    "version": 3
   },
   "file_extension": ".py",
   "mimetype": "text/x-python",
   "name": "python",
   "nbconvert_exporter": "python",
   "pygments_lexer": "ipython3",
   "version": "3.9.13"
  }
 },
 "nbformat": 4,
 "nbformat_minor": 5
}
