{
 "cells": [
  {
   "cell_type": "code",
   "execution_count": 2,
   "id": "f3d3b840",
   "metadata": {},
   "outputs": [],
   "source": [
    "from keras.preprocessing.image import ImageDataGenerator\n",
    "from keras.models import Sequential, Model\n",
    "from keras.applications.inception_v3 import InceptionV3\n",
    "#from keras.callbacks import ModelCheckpoint\n",
    "from keras.optimizers import SGD\n",
    "\n",
    "#from keras import backend as K\n",
    "#K.set_image_dim_ordering('th')\n",
    "\n",
    "import numpy as np\n",
    "import pandas as pd\n",
    "#import h5py\n",
    "\n",
    "import matplotlib.pyplot as plt"
   ]
  },
  {
   "cell_type": "code",
   "execution_count": 6,
   "id": "b5a4b24b",
   "metadata": {},
   "outputs": [],
   "source": [
    "inc_model = InceptionV3(include_top=False, weights='imagenet', pooling='avg', input_shape=((150, 150, 1)))"
   ]
  },
  {
   "cell_type": "code",
   "execution_count": null,
   "id": "e6cde5b9",
   "metadata": {},
   "outputs": [],
   "source": [
    "datagen = ImageDataGenerator(rescale=1./255) # масштабируем именно значения каждого пикселя"
   ]
  },
  {
   "cell_type": "code",
   "execution_count": null,
   "id": "da76ee6f",
   "metadata": {},
   "outputs": [],
   "source": [
    "#Пропускаем через свёртучнуя чать сети изображения (как \"train\", так и \"test\"), чтобы выделить массивы наиболее важных признаков\n",
    "\n",
    "train_generator = datagen.flow_from_directory('data/img_train/', #Важно разложить по папкам объекты классов\n",
    "                                        target_size=(150, 150), #Размер изображения (высота и ширина в пикселях)\n",
    "                                        batch_size=32,\n",
    "                                        class_mode=None,\n",
    "                                        shuffle=False) #не перемешиваем, т.к. эти данные будем прогонять через уже обученную\n",
    "                                                       #сеть. Далее будет удобно работать с индексами классов при загрузке\n",
    "                                                       #массивов numpy для обучения полносвязанных слоёв\n",
    "                                                       # keep data in same order as labels\n",
    "\n",
    "        \n",
    "#Нужно настроить: color_mode=не \"rgb\" (3 канала), а \"grayscale\" (1 канал)\n",
    "#Трансофрмацию валидационных данных не нужно делать\n",
    "test_generator = datagen.flow_from_directory('data/img_test/',\n",
    "                                                               target_size=(150, 150), #разобраться с количеством тестовых\n",
    "                                                                                       #нужно, чтобы их было 25%, ане 50%\n",
    "                                                               batch_size=50,\n",
    "                                                               class_mode=None,\n",
    "                                                               shuffle=False)"
   ]
  },
  {
   "cell_type": "code",
   "execution_count": null,
   "id": "4b7c2a2b",
   "metadata": {},
   "outputs": [],
   "source": [
    "features_train = inc_model.predict_generator(train_generator, 2000,  verbose=1) #2000 значит, что мы предскажем \n",
    "                                                                                #только первые 2000 элементов из папки\n",
    "np.save(open('bottleneck_features/bn_features_train.npy', 'wb'), features_train) #'wb' - открыть/создать\n",
    "                                                                                 #файл для двоичной записи\n",
    "\n",
    "features_test = inc_model.predict_generator(test_generator, 2000,  verbose=1) #Настроить количество предсказаний\n",
    "np.save(open('bottleneck_features/bn_features_test.npy', 'wb'), features_test)"
   ]
  },
  {
   "cell_type": "code",
   "execution_count": null,
   "id": "d9e673b0",
   "metadata": {},
   "outputs": [],
   "source": [
    "train_data = np.load(open('bottleneck_features/bn_features_train.npy', 'rb'))\n",
    "train_labels = np.array([0] * 1000 + [1] * 1000) \n",
    "\n",
    "test_data = np.load(open('bottleneck_features/bn_features_test.npy', 'rb'))\n",
    "test_labels = np.array([0] * 1000 + [1] * 1000)"
   ]
  },
  {
   "cell_type": "code",
   "execution_count": null,
   "id": "77f76d17",
   "metadata": {},
   "outputs": [],
   "source": [
    "fc_model = Sequential()\n",
    "fc_model.add(Flatten(input_shape=train_data.shape[1:])) #слой ввода (input)\n",
    "fc_model.add(Dense(64, activation='relu', name='dense_one')) #можно попробовать функцию активации 'selu'\n",
    "fc_model.add(Dropout(0.5, name='dropout_one')) #выбрасываем сигналы от половины нейронов\n",
    "fc_model.add(Dense(64, activation='relu', name='dense_two'))\n",
    "fc_model.add(Dropout(0.5, name='dropout_two'))\n",
    "fc_model.add(Dense(1, activation='sigmoid', name='output')) #можно использовать 'softmax' для многоклассовой классификации\n",
    "# количество нейронов в выходном слое равно количеству классов (ззаписываем максимальный номер класса)\n",
    "\n",
    "fc_model.compile(optimizer='rmsprop', #поиск минимума (может быть 'adam', 'sgd', 'rmsprop')\n",
    "              loss='binary_crossentropy', # 'categorical_crossentropy'\n",
    "              metrics=['accuracy'])"
   ]
  }
 ],
 "metadata": {
  "kernelspec": {
   "display_name": "Python 3 (ipykernel)",
   "language": "python",
   "name": "python3"
  },
  "language_info": {
   "codemirror_mode": {
    "name": "ipython",
    "version": 3
   },
   "file_extension": ".py",
   "mimetype": "text/x-python",
   "name": "python",
   "nbconvert_exporter": "python",
   "pygments_lexer": "ipython3",
   "version": "3.9.13"
  }
 },
 "nbformat": 4,
 "nbformat_minor": 5
}
